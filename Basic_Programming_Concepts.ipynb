{
  "nbformat": 4,
  "nbformat_minor": 0,
  "metadata": {
    "colab": {
      "name": "Basic Programming Concepts.ipynb",
      "provenance": [],
      "authorship_tag": "ABX9TyPxH4X/B0EuROSoglXpC+C0",
      "include_colab_link": true
    },
    "kernelspec": {
      "name": "python3",
      "display_name": "Python 3"
    },
    "language_info": {
      "name": "python"
    }
  },
  "cells": [
    {
      "cell_type": "markdown",
      "metadata": {
        "id": "view-in-github",
        "colab_type": "text"
      },
      "source": [
        "<a href=\"https://colab.research.google.com/github/jittakorn-ch/data_viz_2022/blob/main/Basic_Programming_Concepts.ipynb\" target=\"_parent\"><img src=\"https://colab.research.google.com/assets/colab-badge.svg\" alt=\"Open In Colab\"/></a>"
      ]
    },
    {
      "cell_type": "markdown",
      "source": [
        "# Function $(f(x) = y)$"
      ],
      "metadata": {
        "id": "b9TlKl2ODwpK"
      }
    },
    {
      "cell_type": "markdown",
      "source": [
        "```python\n",
        "def function_name(index):\n",
        "    # do somthing with input_x to get output_y\n",
        "    return output_y\n",
        "```"
      ],
      "metadata": {
        "id": "d5vRCpIEEIcE"
      }
    },
    {
      "cell_type": "markdown",
      "source": [
        "$f_1(x)=x^2+75$"
      ],
      "metadata": {
        "id": "ALwnbDU5FxO9"
      }
    },
    {
      "cell_type": "code",
      "execution_count": 1,
      "metadata": {
        "id": "T8bVae1_DliQ"
      },
      "outputs": [],
      "source": [
        "def function_f1(x):\n",
        "    a = x**2\n",
        "    y = a + 75\n",
        "    return y "
      ]
    },
    {
      "cell_type": "code",
      "source": [
        "function_f1(3)"
      ],
      "metadata": {
        "colab": {
          "base_uri": "https://localhost:8080/"
        },
        "id": "GMyRAvTIGZx-",
        "outputId": "3d4fd6da-649a-4fbd-d643-e3718108e1d4"
      },
      "execution_count": 2,
      "outputs": [
        {
          "output_type": "execute_result",
          "data": {
            "text/plain": [
              "84"
            ]
          },
          "metadata": {},
          "execution_count": 2
        }
      ]
    },
    {
      "cell_type": "markdown",
      "source": [
        "function มีส่วนสำคัญทั้งหมด 4 ส่วน\n",
        "1. บอก python ว่าจะเขียนฟังก์ชั่น ชื่ออะไร `def function_name():` (ขาดไม่ได้)\n",
        "2. กำหนดตัวแปรที่จะเป็น input *Input* (ขาดได้)\n",
        "3. ส่วนประมวลผล do_somthing with *Input* to get *Output* (ขาดไม่ได้)\n",
        "4. ส่วน output `return` *Output* (ขาดได้)"
      ],
      "metadata": {
        "id": "SElMhAimHTyo"
      }
    },
    {
      "cell_type": "markdown",
      "source": [
        "#### ตัวอย่าง function ที่มีส่วนประกอบครบ"
      ],
      "metadata": {
        "id": "9Al7xVlrKOhM"
      }
    },
    {
      "cell_type": "code",
      "source": [
        "def function_f1(x):\n",
        "    a = x**2\n",
        "    y = a + 75\n",
        "    return y "
      ],
      "metadata": {
        "id": "lVxUZslWKY4e"
      },
      "execution_count": 7,
      "outputs": []
    },
    {
      "cell_type": "markdown",
      "source": [
        "#### ตัวอย่าง function ที่ไม่มี input"
      ],
      "metadata": {
        "id": "tsHJk2Q3IhD1"
      }
    },
    {
      "cell_type": "code",
      "source": [
        "def pi_v():\n",
        "    y = 3.14159265359\n",
        "    return y"
      ],
      "metadata": {
        "id": "pxYWm2dBGnS_"
      },
      "execution_count": 3,
      "outputs": []
    },
    {
      "cell_type": "code",
      "source": [
        "piv = pi_v()\n",
        "circle_area_r2 = piv*(2**2)\n",
        "print(circle_area_r2)"
      ],
      "metadata": {
        "colab": {
          "base_uri": "https://localhost:8080/"
        },
        "id": "bOsrFgorI0zc",
        "outputId": "b3b8de24-5cdc-4eba-8ba1-192d2101d9e8"
      },
      "execution_count": 4,
      "outputs": [
        {
          "output_type": "stream",
          "name": "stdout",
          "text": [
            "12.56637061436\n"
          ]
        }
      ]
    },
    {
      "cell_type": "markdown",
      "source": [
        "#### ตัวอย่าง function ที่ไม่มี process (ไม่ได้)"
      ],
      "metadata": {
        "id": "jyjO8KlaLMCE"
      }
    },
    {
      "cell_type": "markdown",
      "source": [
        "```python\n",
        "#function ไม่มี process เขียนไม่ได้ (เขียนได้แต่ error)\n",
        "def function_a():\n",
        "```\n",
        "\n",
        "\n",
        "\n",
        "```python\n",
        "#error ของ function ไม่มี process\n",
        "  File \"<ipython-input-8-07a0750214a8>\", line 1\n",
        "    def function_a():\n",
        "                     ^\n",
        "SyntaxError: unexpected EOF while parsing\n",
        "```\n",
        "\n"
      ],
      "metadata": {
        "id": "pta_0aUPLsqr"
      }
    },
    {
      "cell_type": "markdown",
      "source": [
        "#### ตัวอย่าง function ที่ไม่มี output"
      ],
      "metadata": {
        "id": "m6O7RjF7Jj-2"
      }
    },
    {
      "cell_type": "code",
      "source": [
        "def print_name_id(name,id):\n",
        "    print(f'ชื่อ {name} รหัสประจำตัว {id}')"
      ],
      "metadata": {
        "id": "nqJ1AGU3JYmr"
      },
      "execution_count": 5,
      "outputs": []
    },
    {
      "cell_type": "code",
      "source": [
        "print_name_id('จิตรกร','623021044-1')"
      ],
      "metadata": {
        "colab": {
          "base_uri": "https://localhost:8080/"
        },
        "id": "GN3XYBKzJ9ez",
        "outputId": "a2726810-9110-465d-ac9f-fb3862d4e5c7"
      },
      "execution_count": 9,
      "outputs": [
        {
          "output_type": "stream",
          "name": "stdout",
          "text": [
            "ชื่อ จิตรกร รหัสประจำตัว 623021044-1\n"
          ]
        }
      ]
    },
    {
      "cell_type": "markdown",
      "source": [
        "#### ตัวอย่าง function print\n",
        "\n",
        " https://www.programiz.com/python-programming/methods/built-in/print"
      ],
      "metadata": {
        "id": "OgiFfx2LPAp0"
      }
    },
    {
      "cell_type": "code",
      "source": [
        "print('จิตรกร')\n",
        "print('623021044-1')"
      ],
      "metadata": {
        "colab": {
          "base_uri": "https://localhost:8080/"
        },
        "id": "yhC5sDQYPlrZ",
        "outputId": "4002bf89-7083-492c-f8e8-e0d6614b52b2"
      },
      "execution_count": 12,
      "outputs": [
        {
          "output_type": "stream",
          "name": "stdout",
          "text": [
            "จิตรกร\n",
            "623021044-1\n"
          ]
        }
      ]
    },
    {
      "cell_type": "code",
      "source": [
        "print('จิตรกร',end='->')\n",
        "print('623021044-1')"
      ],
      "metadata": {
        "colab": {
          "base_uri": "https://localhost:8080/"
        },
        "id": "bZD2wawfKIdV",
        "outputId": "c971ad8b-b438-4404-e414-23d8c5f1871c"
      },
      "execution_count": 11,
      "outputs": [
        {
          "output_type": "stream",
          "name": "stdout",
          "text": [
            "จิตรกร->623021044-1\n"
          ]
        }
      ]
    },
    {
      "cell_type": "code",
      "source": [
        "print('จิตรกร','623021044-1')"
      ],
      "metadata": {
        "colab": {
          "base_uri": "https://localhost:8080/"
        },
        "id": "9ijS3U6-PduM",
        "outputId": "0c5b49ca-3d3c-46fb-9475-28cba8934770"
      },
      "execution_count": 13,
      "outputs": [
        {
          "output_type": "stream",
          "name": "stdout",
          "text": [
            "จิตรกร 623021044-1\n"
          ]
        }
      ]
    },
    {
      "cell_type": "code",
      "source": [
        "print('จิตรกร','623021044-1',sep=' & ')"
      ],
      "metadata": {
        "colab": {
          "base_uri": "https://localhost:8080/"
        },
        "id": "_bYTb6_jPu_M",
        "outputId": "8456cad9-01ba-4dcf-855d-41bae219f1d9"
      },
      "execution_count": 14,
      "outputs": [
        {
          "output_type": "stream",
          "name": "stdout",
          "text": [
            "จิตรกร & 623021044-1\n"
          ]
        }
      ]
    },
    {
      "cell_type": "markdown",
      "source": [
        "## input ของ function แบ่งออกเป็น 2 ชนิด (จำเป็นต้องใส่ กับ ไม่จำเป็นต้องใส่)"
      ],
      "metadata": {
        "id": "vTVJ-dQxQJJa"
      }
    },
    {
      "cell_type": "markdown",
      "source": [
        "ตัวอย่าง function print_grade() มี input 3 ตัว จำเป็นต้องใส่ 2 ตัว คือ name กับ id และไม่จำเป็นต้องใส่ 1 ตัว คือเกรด ซึ่งมีค่า default เป็น F"
      ],
      "metadata": {
        "id": "AApdlSkSRF2K"
      }
    },
    {
      "cell_type": "code",
      "source": [
        "def print_grade(name,id,grade = 'F'):\n",
        "    print(f'รหัสประจำตัว {id} ชื่อ {name}')\n",
        "    print(f'ได้เกรด {grade}')"
      ],
      "metadata": {
        "id": "DhTAuqOjQHQL"
      },
      "execution_count": 15,
      "outputs": []
    },
    {
      "cell_type": "code",
      "source": [
        "print_grade('จิตรกร จันทะสี','623021044-1')"
      ],
      "metadata": {
        "colab": {
          "base_uri": "https://localhost:8080/"
        },
        "id": "5c4A1cZxREfV",
        "outputId": "eed447d8-fb49-4059-8f31-a96bb5bdc9db"
      },
      "execution_count": 16,
      "outputs": [
        {
          "output_type": "stream",
          "name": "stdout",
          "text": [
            "รหัสประจำตัว 623021044-1 ชื่อ จิตรกร จันทะสี\n",
            "ได้เกรด F\n"
          ]
        }
      ]
    },
    {
      "cell_type": "code",
      "source": [
        "print_grade('จิตรกร จันทะสี','623021044-1','A')"
      ],
      "metadata": {
        "colab": {
          "base_uri": "https://localhost:8080/"
        },
        "id": "5j5EUcprR4tP",
        "outputId": "2dfc45ca-9b93-458f-d64d-6d86af3acfd2"
      },
      "execution_count": 17,
      "outputs": [
        {
          "output_type": "stream",
          "name": "stdout",
          "text": [
            "รหัสประจำตัว 623021044-1 ชื่อ จิตรกร จันทะสี\n",
            "ได้เกรด A\n"
          ]
        }
      ]
    },
    {
      "cell_type": "code",
      "source": [
        "print_grade(id='623021044-1',name='จิตรกร จันทะสี',grade='B+')"
      ],
      "metadata": {
        "colab": {
          "base_uri": "https://localhost:8080/"
        },
        "id": "a1zFBm60R-b_",
        "outputId": "888ac6f2-4e59-4611-b577-3e8771f26894"
      },
      "execution_count": 18,
      "outputs": [
        {
          "output_type": "stream",
          "name": "stdout",
          "text": [
            "รหัสประจำตัว 623021044-1 ชื่อ จิตรกร จันทะสี\n",
            "ได้เกรด B+\n"
          ]
        }
      ]
    },
    {
      "cell_type": "code",
      "source": [
        ""
      ],
      "metadata": {
        "id": "ps8I1S62SNtP"
      },
      "execution_count": null,
      "outputs": []
    }
  ]
}