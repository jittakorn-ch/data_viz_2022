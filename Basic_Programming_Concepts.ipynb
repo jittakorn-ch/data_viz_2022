{
  "nbformat": 4,
  "nbformat_minor": 0,
  "metadata": {
    "colab": {
      "name": "Basic Programming Concepts.ipynb",
      "provenance": [],
      "authorship_tag": "ABX9TyMSsQeJyPv9jufElUPLsC4p",
      "include_colab_link": true
    },
    "kernelspec": {
      "name": "python3",
      "display_name": "Python 3"
    },
    "language_info": {
      "name": "python"
    }
  },
  "cells": [
    {
      "cell_type": "markdown",
      "metadata": {
        "id": "view-in-github",
        "colab_type": "text"
      },
      "source": [
        "<a href=\"https://colab.research.google.com/github/jittakorn-ch/data_viz_2022/blob/main/Basic_Programming_Concepts.ipynb\" target=\"_parent\"><img src=\"https://colab.research.google.com/assets/colab-badge.svg\" alt=\"Open In Colab\"/></a>"
      ]
    },
    {
      "cell_type": "markdown",
      "source": [
        "# Function $(f(x) = y)$"
      ],
      "metadata": {
        "id": "b9TlKl2ODwpK"
      }
    },
    {
      "cell_type": "markdown",
      "source": [
        "```python\n",
        "def function_name(index):\n",
        "    # do somthing with input_x to get output_y\n",
        "    return output_y\n",
        "```"
      ],
      "metadata": {
        "id": "d5vRCpIEEIcE"
      }
    },
    {
      "cell_type": "markdown",
      "source": [
        "$f_1(x)=x^2+75$"
      ],
      "metadata": {
        "id": "ALwnbDU5FxO9"
      }
    },
    {
      "cell_type": "code",
      "execution_count": 2,
      "metadata": {
        "id": "T8bVae1_DliQ"
      },
      "outputs": [],
      "source": [
        "def function_f1(x):\n",
        "    a = x**2\n",
        "    y = a + 75\n",
        "    return y "
      ]
    },
    {
      "cell_type": "code",
      "source": [
        "function_f1(3)"
      ],
      "metadata": {
        "colab": {
          "base_uri": "https://localhost:8080/"
        },
        "id": "GMyRAvTIGZx-",
        "outputId": "18314801-867c-41ff-a2b5-0ca54a0ee8c4"
      },
      "execution_count": 3,
      "outputs": [
        {
          "output_type": "execute_result",
          "data": {
            "text/plain": [
              "84"
            ]
          },
          "metadata": {},
          "execution_count": 3
        }
      ]
    },
    {
      "cell_type": "markdown",
      "source": [
        "function มีส่วนสำคัญทั้งหมด 4 ส่วน\n",
        "1. บอก python ว่าจะเขียนฟังก์ชั่น ชื่ออะไร `def function_name():` (ขาดไม่ได้)\n",
        "2. กำหนดตัวแปรที่จะเป็น input *Input* (ขาดได้)\n",
        "3. ส่วนประมวลผล do_somthing with *Input* to get *Output* (ขาดไม่ได้)\n",
        "4. ส่วน output `return` *Output* (ขาดได้)"
      ],
      "metadata": {
        "id": "SElMhAimHTyo"
      }
    },
    {
      "cell_type": "markdown",
      "source": [
        "#### ตัวอย่าง function ที่มีส่วนประกอบครบ"
      ],
      "metadata": {
        "id": "9Al7xVlrKOhM"
      }
    },
    {
      "cell_type": "code",
      "source": [
        "def function_f1(x):\n",
        "    a = x**2\n",
        "    y = a + 75\n",
        "    return y "
      ],
      "metadata": {
        "id": "lVxUZslWKY4e"
      },
      "execution_count": 4,
      "outputs": []
    },
    {
      "cell_type": "markdown",
      "source": [
        "#### ตัวอย่าง function ที่ไม่มี input"
      ],
      "metadata": {
        "id": "tsHJk2Q3IhD1"
      }
    },
    {
      "cell_type": "code",
      "source": [
        "def pi_v():\n",
        "    y = 3.14159265359\n",
        "    return y"
      ],
      "metadata": {
        "id": "pxYWm2dBGnS_"
      },
      "execution_count": 5,
      "outputs": []
    },
    {
      "cell_type": "code",
      "source": [
        "piv = pi_v()\n",
        "circle_area_r2 = piv*(2**2)\n",
        "print(circle_area_r2)"
      ],
      "metadata": {
        "colab": {
          "base_uri": "https://localhost:8080/"
        },
        "id": "bOsrFgorI0zc",
        "outputId": "a9ecb429-994f-4223-f68c-c40724bf26fd"
      },
      "execution_count": 6,
      "outputs": [
        {
          "output_type": "stream",
          "name": "stdout",
          "text": [
            "12.56637061436\n"
          ]
        }
      ]
    },
    {
      "cell_type": "markdown",
      "source": [
        "#### ตัวอย่าง function ที่ไม่มี process (ไม่ได้)"
      ],
      "metadata": {
        "id": "jyjO8KlaLMCE"
      }
    },
    {
      "cell_type": "markdown",
      "source": [
        "```python\n",
        "#function ไม่มี process เขียนไม่ได้ (เขียนได้แต่ error)\n",
        "def function_a():\n",
        "```\n",
        "\n",
        "\n",
        "\n",
        "```python\n",
        "#error ของ function ไม่มี process\n",
        "  File \"<ipython-input-8-07a0750214a8>\", line 1\n",
        "    def function_a():\n",
        "                     ^\n",
        "SyntaxError: unexpected EOF while parsing\n",
        "```\n",
        "\n"
      ],
      "metadata": {
        "id": "pta_0aUPLsqr"
      }
    },
    {
      "cell_type": "markdown",
      "source": [
        "#### ตัวอย่าง function ที่ไม่มี output"
      ],
      "metadata": {
        "id": "m6O7RjF7Jj-2"
      }
    },
    {
      "cell_type": "code",
      "source": [
        "def print_name_id(name,id):\n",
        "    print(f'ชื่อ {name} รหัสประจำตัว {id}')"
      ],
      "metadata": {
        "id": "nqJ1AGU3JYmr"
      },
      "execution_count": 7,
      "outputs": []
    },
    {
      "cell_type": "code",
      "source": [
        "print_name_id('จิตรกร','623021044-1')"
      ],
      "metadata": {
        "colab": {
          "base_uri": "https://localhost:8080/"
        },
        "id": "GN3XYBKzJ9ez",
        "outputId": "e34bbdd8-9bb0-4775-dd4e-65f603a80c3a"
      },
      "execution_count": 8,
      "outputs": [
        {
          "output_type": "stream",
          "name": "stdout",
          "text": [
            "ชื่อ จิตรกร รหัสประจำตัว 623021044-1\n"
          ]
        }
      ]
    },
    {
      "cell_type": "markdown",
      "source": [
        "#### ตัวอย่าง function print\n",
        "\n",
        " https://www.programiz.com/python-programming/methods/built-in/print"
      ],
      "metadata": {
        "id": "OgiFfx2LPAp0"
      }
    },
    {
      "cell_type": "code",
      "source": [
        "print('จิตรกร')\n",
        "print('623021044-1')"
      ],
      "metadata": {
        "colab": {
          "base_uri": "https://localhost:8080/"
        },
        "id": "yhC5sDQYPlrZ",
        "outputId": "0d76e5a4-6211-4549-e7d7-ff2a69b4eab3"
      },
      "execution_count": 9,
      "outputs": [
        {
          "output_type": "stream",
          "name": "stdout",
          "text": [
            "จิตรกร\n",
            "623021044-1\n"
          ]
        }
      ]
    },
    {
      "cell_type": "code",
      "source": [
        "print('จิตรกร',end='->')\n",
        "print('623021044-1')"
      ],
      "metadata": {
        "colab": {
          "base_uri": "https://localhost:8080/"
        },
        "id": "bZD2wawfKIdV",
        "outputId": "738b8558-b527-4ac8-8ec0-f4e3a1097ba9"
      },
      "execution_count": 10,
      "outputs": [
        {
          "output_type": "stream",
          "name": "stdout",
          "text": [
            "จิตรกร->623021044-1\n"
          ]
        }
      ]
    },
    {
      "cell_type": "code",
      "source": [
        "print('จิตรกร','623021044-1')"
      ],
      "metadata": {
        "colab": {
          "base_uri": "https://localhost:8080/"
        },
        "id": "9ijS3U6-PduM",
        "outputId": "692cbcd1-f5ca-4c08-8594-f40bdb76f198"
      },
      "execution_count": 11,
      "outputs": [
        {
          "output_type": "stream",
          "name": "stdout",
          "text": [
            "จิตรกร 623021044-1\n"
          ]
        }
      ]
    },
    {
      "cell_type": "code",
      "source": [
        "print('จิตรกร','623021044-1',sep=' & ')"
      ],
      "metadata": {
        "colab": {
          "base_uri": "https://localhost:8080/"
        },
        "id": "_bYTb6_jPu_M",
        "outputId": "3155fcbf-51f1-4ca6-b77a-f89804541544"
      },
      "execution_count": 12,
      "outputs": [
        {
          "output_type": "stream",
          "name": "stdout",
          "text": [
            "จิตรกร & 623021044-1\n"
          ]
        }
      ]
    },
    {
      "cell_type": "markdown",
      "source": [
        "## input ของ function แบ่งออกเป็น 2 ชนิด (จำเป็นต้องใส่ กับ ไม่จำเป็นต้องใส่)"
      ],
      "metadata": {
        "id": "vTVJ-dQxQJJa"
      }
    },
    {
      "cell_type": "markdown",
      "source": [
        "ตัวอย่าง function print_grade() มี input 3 ตัว จำเป็นต้องใส่ 2 ตัว คือ name กับ id และไม่จำเป็นต้องใส่ 1 ตัว คือเกรด ซึ่งมีค่า default เป็น F"
      ],
      "metadata": {
        "id": "AApdlSkSRF2K"
      }
    },
    {
      "cell_type": "code",
      "source": [
        "def print_grade(name,id,grade = 'F'):\n",
        "    print(f'รหัสประจำตัว {id} ชื่อ {name}')\n",
        "    print(f'ได้เกรด {grade}')"
      ],
      "metadata": {
        "id": "DhTAuqOjQHQL"
      },
      "execution_count": 13,
      "outputs": []
    },
    {
      "cell_type": "code",
      "source": [
        "print_grade('จิตรกร จันทะสี','623021044-1')"
      ],
      "metadata": {
        "colab": {
          "base_uri": "https://localhost:8080/"
        },
        "id": "5c4A1cZxREfV",
        "outputId": "f97fdd2f-892f-4ee9-bfa6-2399046b3477"
      },
      "execution_count": 14,
      "outputs": [
        {
          "output_type": "stream",
          "name": "stdout",
          "text": [
            "รหัสประจำตัว 623021044-1 ชื่อ จิตรกร จันทะสี\n",
            "ได้เกรด F\n"
          ]
        }
      ]
    },
    {
      "cell_type": "code",
      "source": [
        "print_grade('จิตรกร จันทะสี','623021044-1','A')"
      ],
      "metadata": {
        "colab": {
          "base_uri": "https://localhost:8080/"
        },
        "id": "5j5EUcprR4tP",
        "outputId": "015fc4d1-2daa-42ce-e408-8702516f9205"
      },
      "execution_count": 15,
      "outputs": [
        {
          "output_type": "stream",
          "name": "stdout",
          "text": [
            "รหัสประจำตัว 623021044-1 ชื่อ จิตรกร จันทะสี\n",
            "ได้เกรด A\n"
          ]
        }
      ]
    },
    {
      "cell_type": "code",
      "source": [
        "print_grade(id='623021044-1',name='จิตรกร จันทะสี',grade='B+')"
      ],
      "metadata": {
        "colab": {
          "base_uri": "https://localhost:8080/"
        },
        "id": "a1zFBm60R-b_",
        "outputId": "be2dcfa8-bca8-4bbf-d2b1-051fb57c2183"
      },
      "execution_count": 16,
      "outputs": [
        {
          "output_type": "stream",
          "name": "stdout",
          "text": [
            "รหัสประจำตัว 623021044-1 ชื่อ จิตรกร จันทะสี\n",
            "ได้เกรด B+\n"
          ]
        }
      ]
    },
    {
      "cell_type": "markdown",
      "source": [
        "# Looping (for)"
      ],
      "metadata": {
        "id": "t1bxlb7RTVxn"
      }
    },
    {
      "cell_type": "markdown",
      "source": [
        "```python\n",
        "# วนลูป member ในอะไรซักอย่าง\n",
        "for member in listEX:\n",
        "    do_somthing()\n",
        "```\n",
        "\n"
      ],
      "metadata": {
        "id": "6Ambn_EbTmjd"
      }
    },
    {
      "cell_type": "code",
      "source": [
        "for member in [1,2,3,4,5,6]:\n",
        "    print(member)"
      ],
      "metadata": {
        "id": "ps8I1S62SNtP",
        "outputId": "d55cf57f-8c9d-42c9-ffe5-e97a632a55a0",
        "colab": {
          "base_uri": "https://localhost:8080/"
        }
      },
      "execution_count": 17,
      "outputs": [
        {
          "output_type": "stream",
          "name": "stdout",
          "text": [
            "1\n",
            "2\n",
            "3\n",
            "4\n",
            "5\n",
            "6\n"
          ]
        }
      ]
    },
    {
      "cell_type": "code",
      "source": [
        "def print_name(name):\n",
        "    print(f'ฉันชื่อ {name}')"
      ],
      "metadata": {
        "id": "jOthvy1oUbhm"
      },
      "execution_count": 18,
      "outputs": []
    },
    {
      "cell_type": "code",
      "source": [
        "for name in ['วัชราภรณ์','จุฑากาญจน์','ชลธิชา','ญาดา','กิตติคุณ']:\n",
        "    N = name\n",
        "    print_name(N)"
      ],
      "metadata": {
        "id": "nTmUF8DQVGhw",
        "outputId": "f87cd1e5-4f8a-4cd3-c06a-ab577a44efbe",
        "colab": {
          "base_uri": "https://localhost:8080/"
        }
      },
      "execution_count": 19,
      "outputs": [
        {
          "output_type": "stream",
          "name": "stdout",
          "text": [
            "ฉันชื่อ วัชราภรณ์\n",
            "ฉันชื่อ จุฑากาญจน์\n",
            "ฉันชื่อ ชลธิชา\n",
            "ฉันชื่อ ญาดา\n",
            "ฉันชื่อ กิตติคุณ\n"
          ]
        }
      ]
    },
    {
      "cell_type": "code",
      "source": [
        "list_name_id_grade = [['นางสาวเบญญาภา ระภูเขียว','623020527-6','B'],\n",
        "                      ['นางสาวทักษิณา ราชหุ่น','623021000-1','A'],\n",
        "                      ['นางสาวปลายฟ้า คำเพ็ง','623021005-1','C']]"
      ],
      "metadata": {
        "id": "PMixkk2DWXK6"
      },
      "execution_count": 20,
      "outputs": []
    },
    {
      "cell_type": "code",
      "source": [
        "for each in list_name_id_grade:\n",
        "    name = each[0]\n",
        "    id = each[1]\n",
        "    grade = each[2]\n",
        "    print_grade(name,id,grade)\n",
        "    print('--------------')"
      ],
      "metadata": {
        "id": "SlgwpcCTXlS1",
        "outputId": "9276bd87-e574-49fd-f240-094ec4a96a49",
        "colab": {
          "base_uri": "https://localhost:8080/"
        }
      },
      "execution_count": 21,
      "outputs": [
        {
          "output_type": "stream",
          "name": "stdout",
          "text": [
            "รหัสประจำตัว 623020527-6 ชื่อ นางสาวเบญญาภา ระภูเขียว\n",
            "ได้เกรด B\n",
            "--------------\n",
            "รหัสประจำตัว 623021000-1 ชื่อ นางสาวทักษิณา ราชหุ่น\n",
            "ได้เกรด A\n",
            "--------------\n",
            "รหัสประจำตัว 623021005-1 ชื่อ นางสาวปลายฟ้า คำเพ็ง\n",
            "ได้เกรด C\n",
            "--------------\n"
          ]
        }
      ]
    },
    {
      "cell_type": "markdown",
      "source": [
        "## ใช้ for loop เพิ่มสมาชิกใน list"
      ],
      "metadata": {
        "id": "LljFhCF6YYv8"
      }
    },
    {
      "cell_type": "code",
      "source": [
        "list_name = []\n",
        "list_id = []\n",
        "list_grade = []\n",
        "for each in list_name_id_grade:\n",
        "    list_name.append(each[0])       # เพิ่มสมาชิกเข้าใน list_name ด้วยการวนลูป each ใน list_name_id_grade เอาตัวที่ [0]\n",
        "    list_id.append(each[1])\n",
        "    list_grade.append(each[2])"
      ],
      "metadata": {
        "id": "j4RFKvtQYBuX"
      },
      "execution_count": 22,
      "outputs": []
    },
    {
      "cell_type": "code",
      "source": [
        "list_name"
      ],
      "metadata": {
        "id": "aoGJxrEkZKwD",
        "outputId": "3a7d25e5-1354-4f12-8900-6a75accb8cee",
        "colab": {
          "base_uri": "https://localhost:8080/"
        }
      },
      "execution_count": 23,
      "outputs": [
        {
          "output_type": "execute_result",
          "data": {
            "text/plain": [
              "['นางสาวเบญญาภา ระภูเขียว', 'นางสาวทักษิณา ราชหุ่น', 'นางสาวปลายฟ้า คำเพ็ง']"
            ]
          },
          "metadata": {},
          "execution_count": 23
        }
      ]
    },
    {
      "cell_type": "markdown",
      "source": [
        "### การวนลูปด้วย range()"
      ],
      "metadata": {
        "id": "y8TSV8tfbhRm"
      }
    },
    {
      "cell_type": "code",
      "source": [
        "for i in range(100):    # วนลูปด้วยค่าซ้ำ\n",
        "    print('งง', end = ' ')"
      ],
      "metadata": {
        "id": "fWAUdevHZNbj",
        "outputId": "f27c7f35-465d-4fea-c2c1-993f53f9148b",
        "colab": {
          "base_uri": "https://localhost:8080/"
        }
      },
      "execution_count": 25,
      "outputs": [
        {
          "output_type": "stream",
          "name": "stdout",
          "text": [
            "งง งง งง งง งง งง งง งง งง งง งง งง งง งง งง งง งง งง งง งง งง งง งง งง งง งง งง งง งง งง งง งง งง งง งง งง งง งง งง งง งง งง งง งง งง งง งง งง งง งง งง งง งง งง งง งง งง งง งง งง งง งง งง งง งง งง งง งง งง งง งง งง งง งง งง งง งง งง งง งง งง งง งง งง งง งง งง งง งง งง งง งง งง งง งง งง งง งง งง งง "
          ]
        }
      ]
    },
    {
      "cell_type": "markdown",
      "source": [
        "## Loop ซ้อน Loop"
      ],
      "metadata": {
        "id": "rYHGqCiTcW_U"
      }
    },
    {
      "cell_type": "code",
      "source": [
        "for mem1 in range(2,5):     #[2,3,4]\n",
        "    print(f'now mem1 = {mem1}')\n",
        "    for mem2 in range(1,13):    #[1,2,3,4,5,6,7,8,9,10,11,12]\n",
        "        print(f'{mem1} x {mem2} = {mem1*mem2}')\n",
        "    print(f'end inner for mem1 = {mem1}')"
      ],
      "metadata": {
        "id": "Yz7WiYQXb4fN",
        "outputId": "bd358753-fc77-4159-fec4-4f71ad2249bf",
        "colab": {
          "base_uri": "https://localhost:8080/"
        }
      },
      "execution_count": 27,
      "outputs": [
        {
          "output_type": "stream",
          "name": "stdout",
          "text": [
            "now mem1 = 2\n",
            "2 x 1 = 2\n",
            "2 x 2 = 4\n",
            "2 x 3 = 6\n",
            "2 x 4 = 8\n",
            "2 x 5 = 10\n",
            "2 x 6 = 12\n",
            "2 x 7 = 14\n",
            "2 x 8 = 16\n",
            "2 x 9 = 18\n",
            "2 x 10 = 20\n",
            "2 x 11 = 22\n",
            "2 x 12 = 24\n",
            "end inner for mem1 = 2\n",
            "now mem1 = 3\n",
            "3 x 1 = 3\n",
            "3 x 2 = 6\n",
            "3 x 3 = 9\n",
            "3 x 4 = 12\n",
            "3 x 5 = 15\n",
            "3 x 6 = 18\n",
            "3 x 7 = 21\n",
            "3 x 8 = 24\n",
            "3 x 9 = 27\n",
            "3 x 10 = 30\n",
            "3 x 11 = 33\n",
            "3 x 12 = 36\n",
            "end inner for mem1 = 3\n",
            "now mem1 = 4\n",
            "4 x 1 = 4\n",
            "4 x 2 = 8\n",
            "4 x 3 = 12\n",
            "4 x 4 = 16\n",
            "4 x 5 = 20\n",
            "4 x 6 = 24\n",
            "4 x 7 = 28\n",
            "4 x 8 = 32\n",
            "4 x 9 = 36\n",
            "4 x 10 = 40\n",
            "4 x 11 = 44\n",
            "4 x 12 = 48\n",
            "end inner for mem1 = 4\n"
          ]
        }
      ]
    },
    {
      "cell_type": "markdown",
      "source": [
        "### Loop in Function"
      ],
      "metadata": {
        "id": "BcF-Ndwsf92b"
      }
    },
    {
      "cell_type": "code",
      "source": [
        "def print_grade_loop(names,grades):\n",
        "    for n,g in zip(names,grades):\n",
        "        print(f'{n} ได้เกรด {g}')"
      ],
      "metadata": {
        "id": "ZzYQSpWdf69q"
      },
      "execution_count": 30,
      "outputs": []
    },
    {
      "cell_type": "code",
      "source": [
        "print_grade_loop(list_name,list_grade)"
      ],
      "metadata": {
        "id": "XFR7Oy9NguxL",
        "outputId": "168b7feb-8765-4f72-acf0-ee100c780e95",
        "colab": {
          "base_uri": "https://localhost:8080/"
        }
      },
      "execution_count": 31,
      "outputs": [
        {
          "output_type": "stream",
          "name": "stdout",
          "text": [
            "นางสาวเบญญาภา ระภูเขียว ได้เกรด B\n",
            "นางสาวทักษิณา ราชหุ่น ได้เกรด A\n",
            "นางสาวปลายฟ้า คำเพ็ง ได้เกรด C\n"
          ]
        }
      ]
    },
    {
      "cell_type": "markdown",
      "source": [
        "# Condition Statement (if)"
      ],
      "metadata": {
        "id": "89-Pt36uh3nR"
      }
    },
    {
      "cell_type": "markdown",
      "source": [
        "```python\n",
        "if condition1:     \n",
        "    do_something()    # ถ้า condition1 เป็นจริง ทำ do_something()\n",
        "elif condition2:   \n",
        "    do_another_thing()    # ถ้า condition1 ไม่เป็นจริง แต่ condition2 เป็นจริง ทำ do_another_thing()\n",
        "else:\n",
        "    do_the_last_thing() # ถ้าไม่มี condition ไหนเป็นจริงเลย ทำ do_the_last_thing()\n",
        "```\n",
        "\n"
      ],
      "metadata": {
        "id": "EFrkOufNiGFS"
      }
    },
    {
      "cell_type": "code",
      "source": [
        "for n in list_name:\n",
        "    if len(n)>20:\n",
        "        print(f'{n} ได้เกรด A')\n",
        "    else:\n",
        "        print(f'{n} ได้เกรด F')"
      ],
      "metadata": {
        "id": "8SpnN4LShCR5",
        "outputId": "99124def-c0f3-4f9a-e03d-d762c74f83e5",
        "colab": {
          "base_uri": "https://localhost:8080/"
        }
      },
      "execution_count": 32,
      "outputs": [
        {
          "output_type": "stream",
          "name": "stdout",
          "text": [
            "นางสาวเบญญาภา ระภูเขียว ได้เกรด A\n",
            "นางสาวทักษิณา ราชหุ่น ได้เกรด A\n",
            "นางสาวปลายฟ้า คำเพ็ง ได้เกรด F\n"
          ]
        }
      ]
    },
    {
      "cell_type": "markdown",
      "source": [
        "## operator ที่ใช้ตรวจสอบ condition\n",
        "\n",
        "==,!=,>=,<=,>,<,and,or"
      ],
      "metadata": {
        "id": "amVyMeujkgsQ"
      }
    },
    {
      "cell_type": "code",
      "source": [
        "a = 10 == 20\n",
        "print(a)"
      ],
      "metadata": {
        "id": "X0y4gI1NkeQs",
        "outputId": "db92ddb1-2d01-4282-b02e-ccd85c514f1d",
        "colab": {
          "base_uri": "https://localhost:8080/"
        }
      },
      "execution_count": 33,
      "outputs": [
        {
          "output_type": "stream",
          "name": "stdout",
          "text": [
            "False\n"
          ]
        }
      ]
    },
    {
      "cell_type": "code",
      "source": [
        "b = 15 <= 20\n",
        "print(b)"
      ],
      "metadata": {
        "id": "udCzrj_wk3So",
        "outputId": "a27033e7-46a8-423f-b5d9-70c255fb8ff2",
        "colab": {
          "base_uri": "https://localhost:8080/"
        }
      },
      "execution_count": 34,
      "outputs": [
        {
          "output_type": "stream",
          "name": "stdout",
          "text": [
            "True\n"
          ]
        }
      ]
    },
    {
      "cell_type": "code",
      "source": [
        "if a:\n",
        "    print('X')"
      ],
      "metadata": {
        "id": "hGfr48FdlG0L"
      },
      "execution_count": 35,
      "outputs": []
    },
    {
      "cell_type": "code",
      "source": [
        "if True:\n",
        "    print('X')"
      ],
      "metadata": {
        "id": "eBf42UD-lK4U",
        "outputId": "6f5a66af-94b1-4724-d66e-eb27389749a2",
        "colab": {
          "base_uri": "https://localhost:8080/"
        }
      },
      "execution_count": 36,
      "outputs": [
        {
          "output_type": "stream",
          "name": "stdout",
          "text": [
            "X\n"
          ]
        }
      ]
    },
    {
      "cell_type": "code",
      "source": [
        "if a and b:\n",
        "    print('X')"
      ],
      "metadata": {
        "id": "qQPdnAMulO2a"
      },
      "execution_count": 37,
      "outputs": []
    },
    {
      "cell_type": "code",
      "source": [
        "if a or b:\n",
        "    print('X')"
      ],
      "metadata": {
        "id": "4r6a_PgLlVc3",
        "outputId": "8dc14176-038d-45ae-bc2c-6d2b5f644d4d",
        "colab": {
          "base_uri": "https://localhost:8080/"
        }
      },
      "execution_count": 38,
      "outputs": [
        {
          "output_type": "stream",
          "name": "stdout",
          "text": [
            "X\n"
          ]
        }
      ]
    },
    {
      "cell_type": "markdown",
      "source": [
        "# HW4\n",
        "เขียน functoin ตัดเกรด โดยที่ input เป็นคะแนน(0-100) , output เป็นเกรด (F-A) หรือ 'ไม่สามารถตัดเกรดได้'\n",
        "\n",
        "วนลูปตัดเกรด input = [1,50,65,90,101,-5,49,'n',80\n",
        "\n",
        "กำหนด\n",
        "\n",
        "....\n",
        "\n",
        "...."
      ],
      "metadata": {
        "id": "H3bH4I9OltDA"
      }
    },
    {
      "cell_type": "code",
      "source": [
        ""
      ],
      "metadata": {
        "id": "vOb5HeDSlhlo"
      },
      "execution_count": null,
      "outputs": []
    }
  ]
}